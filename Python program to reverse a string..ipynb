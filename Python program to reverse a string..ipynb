{
 "cells": [
  {
   "cell_type": "code",
   "execution_count": 2,
   "id": "7911556e",
   "metadata": {},
   "outputs": [
    {
     "name": "stdout",
     "output_type": "stream",
     "text": [
      "enter a string1234abcd\n",
      "dcba4321\n",
      "\n"
     ]
    }
   ],
   "source": [
    "#Python program to reverse a string.\n",
    "\n",
    "def reverse():\n",
    "    x=input(\"enter a string\")\n",
    "    y=x[::-1]\n",
    "    print(y)\n",
    "    return \"\"\n",
    "print(reverse())"
   ]
  },
  {
   "cell_type": "code",
   "execution_count": null,
   "id": "0281da33",
   "metadata": {},
   "outputs": [],
   "source": []
  }
 ],
 "metadata": {
  "kernelspec": {
   "display_name": "Python 3 (ipykernel)",
   "language": "python",
   "name": "python3"
  },
  "language_info": {
   "codemirror_mode": {
    "name": "ipython",
    "version": 3
   },
   "file_extension": ".py",
   "mimetype": "text/x-python",
   "name": "python",
   "nbconvert_exporter": "python",
   "pygments_lexer": "ipython3",
   "version": "3.9.12"
  }
 },
 "nbformat": 4,
 "nbformat_minor": 5
}
